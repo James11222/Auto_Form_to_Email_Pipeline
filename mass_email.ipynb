{
 "cells": [
  {
   "cell_type": "markdown",
   "id": "fluid-harvey",
   "metadata": {},
   "source": [
    "# Configure Gmail API"
   ]
  },
  {
   "cell_type": "code",
   "execution_count": 2,
   "id": "published-status",
   "metadata": {},
   "outputs": [
    {
     "name": "stdout",
     "output_type": "stream",
     "text": [
      "client_secrets.json-gmail-v1-(['https://mail.google.com/'],)\n",
      "['https://mail.google.com/']\n",
      "Please visit this URL to authorize this application: https://accounts.google.com/o/oauth2/auth?response_type=code&client_id=571222025068-m9ovg7f56g0ldejvv4j7it2j8k3i4ulo.apps.googleusercontent.com&redirect_uri=http%3A%2F%2Flocalhost%3A8080%2F&scope=https%3A%2F%2Fmail.google.com%2F&state=XQzrpJJ2JSTOHCyeZTUtECclokekce&access_type=offline\n",
      "gmail service created successfully\n",
      "{'id': '17d22f7a149f19f6', 'threadId': '17d22f7a149f19f6', 'labelIds': ['SENT']}\n"
     ]
    }
   ],
   "source": [
    "import pickle\n",
    "import os\n",
    "from google_auth_oauthlib.flow import Flow, InstalledAppFlow\n",
    "from googleapiclient.discovery import build\n",
    "from googleapiclient.http import MediaFileUpload, MediaIoBaseDownload\n",
    "from google.auth.transport.requests import Request\n",
    "\n",
    "\n",
    "\n",
    "def Create_Service(client_secret_file, api_name, api_version, *scopes):\n",
    "    print(client_secret_file, api_name, api_version, scopes, sep='-')\n",
    "    CLIENT_SECRET_FILE = client_secret_file\n",
    "    API_SERVICE_NAME = api_name\n",
    "    API_VERSION = api_version\n",
    "    SCOPES = [scope for scope in scopes[0]]\n",
    "    print(SCOPES)\n",
    "\n",
    "    cred = None\n",
    "\n",
    "    pickle_file = f'token_{API_SERVICE_NAME}_{API_VERSION}.pickle'\n",
    "    # print(pickle_file)\n",
    "\n",
    "    if os.path.exists(pickle_file):\n",
    "        with open(pickle_file, 'rb') as token:\n",
    "            cred = pickle.load(token)\n",
    "\n",
    "    if not cred or not cred.valid:\n",
    "        if cred and cred.expired and cred.refresh_token:\n",
    "            cred.refresh(Request())\n",
    "        else:\n",
    "            flow = InstalledAppFlow.from_client_secrets_file(CLIENT_SECRET_FILE, SCOPES)\n",
    "            cred = flow.run_local_server()\n",
    "\n",
    "        with open(pickle_file, 'wb') as token:\n",
    "            pickle.dump(cred, token)\n",
    "\n",
    "    try:\n",
    "        service = build(API_SERVICE_NAME, API_VERSION, credentials=cred)\n",
    "        print(API_SERVICE_NAME, 'service created successfully')\n",
    "        return service\n",
    "    except Exception as e:\n",
    "        print('Unable to connect.')\n",
    "        print(e)\n",
    "        return None\n",
    "\n",
    "def convert_to_RFC_datetime(year=1900, month=1, day=1, hour=0, minute=0):\n",
    "    dt = datetime.datetime(year, month, day, hour, minute, 0).isoformat() + 'Z'\n",
    "    return dt\n",
    "\n",
    "  \n",
    "import base64\n",
    "from email.mime.multipart import MIMEMultipart\n",
    "from email.mime.text import MIMEText\n",
    "\n",
    "CLIENT_SECRET_FILE = 'client_secrets.json'\n",
    "API_NAME = 'gmail'\n",
    "API_VERSION = 'v1'\n",
    "SCOPES = ['https://mail.google.com/']\n",
    "\n",
    "service = Create_Service(CLIENT_SECRET_FILE, API_NAME, API_VERSION, SCOPES)\n",
    "\n"
   ]
  },
  {
   "cell_type": "markdown",
   "id": "sweet-difficulty",
   "metadata": {},
   "source": [
    "# Write Email Function"
   ]
  },
  {
   "cell_type": "code",
   "execution_count": 3,
   "id": "elegant-compatibility",
   "metadata": {},
   "outputs": [],
   "source": [
    "def write_email(send_to_email, message):\n",
    "    emailMsg = message\n",
    "    mimeMessage = MIMEMultipart()\n",
    "    mimeMessage['to'] = send_to_email\n",
    "    mimeMessage['subject'] = 'Python DeCal Admission'\n",
    "    mimeMessage.attach(MIMEText(emailMsg, 'plain'))\n",
    "    raw_string = base64.urlsafe_b64encode(mimeMessage.as_bytes()).decode()\n",
    "\n",
    "    message = service.users().messages().send(userId='me', body={'raw': raw_string}).execute()\n",
    "    print(message)"
   ]
  },
  {
   "cell_type": "markdown",
   "id": "isolated-turner",
   "metadata": {},
   "source": [
    "# Read in Preconfigured Email Data"
   ]
  },
  {
   "cell_type": "code",
   "execution_count": 4,
   "id": "hungarian-persian",
   "metadata": {},
   "outputs": [],
   "source": [
    "import pandas as pd"
   ]
  },
  {
   "cell_type": "code",
   "execution_count": 7,
   "id": "endangered-flight",
   "metadata": {},
   "outputs": [
    {
     "data": {
      "text/html": [
       "<div>\n",
       "<style scoped>\n",
       "    .dataframe tbody tr th:only-of-type {\n",
       "        vertical-align: middle;\n",
       "    }\n",
       "\n",
       "    .dataframe tbody tr th {\n",
       "        vertical-align: top;\n",
       "    }\n",
       "\n",
       "    .dataframe thead th {\n",
       "        text-align: right;\n",
       "    }\n",
       "</style>\n",
       "<table border=\"1\" class=\"dataframe\">\n",
       "  <thead>\n",
       "    <tr style=\"text-align: right;\">\n",
       "      <th></th>\n",
       "      <th>Unnamed: 0</th>\n",
       "      <th>Emails</th>\n",
       "      <th>Messages</th>\n",
       "    </tr>\n",
       "  </thead>\n",
       "  <tbody>\n",
       "    <tr>\n",
       "      <th>0</th>\n",
       "      <td>0</td>\n",
       "      <td>jamessunseri@berkeley.edu</td>\n",
       "      <td>Hello James Sunseri,\\n\\n    We look forwar...</td>\n",
       "    </tr>\n",
       "  </tbody>\n",
       "</table>\n",
       "</div>"
      ],
      "text/plain": [
       "   Unnamed: 0                     Emails  \\\n",
       "0           0  jamessunseri@berkeley.edu   \n",
       "\n",
       "                                            Messages  \n",
       "0      Hello James Sunseri,\\n\\n    We look forwar...  "
      ]
     },
     "execution_count": 7,
     "metadata": {},
     "output_type": "execute_result"
    }
   ],
   "source": [
    "email_data = pd.read_csv(\"email_list.csv\")\n",
    "\n",
    "email_data"
   ]
  },
  {
   "cell_type": "code",
   "execution_count": 8,
   "id": "light-contents",
   "metadata": {},
   "outputs": [
    {
     "name": "stdout",
     "output_type": "stream",
     "text": [
      "jamessunseri@berkeley.edu     Hello James Sunseri,\n",
      "\n",
      "    We look forward to having you in our class this fall! Here is the permission code for the decal: 53363\n",
      "\n",
      "    Please let me know if you have any questions\n",
      "\n",
      "    Onwards,\n",
      "    Python Decal Staff\n"
     ]
    }
   ],
   "source": [
    "print(email_data['Emails'][0], email_data['Messages'][0])"
   ]
  },
  {
   "cell_type": "code",
   "execution_count": 9,
   "id": "favorite-journalist",
   "metadata": {},
   "outputs": [
    {
     "name": "stdout",
     "output_type": "stream",
     "text": [
      "{'id': '17d230dcfc4881cb', 'threadId': '17d230dcfc4881cb', 'labelIds': ['UNREAD', 'SENT', 'INBOX']}\n"
     ]
    }
   ],
   "source": [
    "write_email(email_data['Emails'][0], email_data['Messages'][0])"
   ]
  },
  {
   "cell_type": "code",
   "execution_count": null,
   "id": "dress-calcium",
   "metadata": {},
   "outputs": [],
   "source": []
  }
 ],
 "metadata": {
  "kernelspec": {
   "display_name": "Python 3",
   "language": "python",
   "name": "python3"
  },
  "language_info": {
   "codemirror_mode": {
    "name": "ipython",
    "version": 3
   },
   "file_extension": ".py",
   "mimetype": "text/x-python",
   "name": "python",
   "nbconvert_exporter": "python",
   "pygments_lexer": "ipython3",
   "version": "3.7.3"
  }
 },
 "nbformat": 4,
 "nbformat_minor": 5
}
